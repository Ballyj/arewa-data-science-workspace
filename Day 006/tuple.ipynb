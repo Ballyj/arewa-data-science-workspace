{
 "cells": [
  {
   "cell_type": "markdown",
   "metadata": {},
   "source": [
    "# Day 6 - Tuples"
   ]
  },
  {
   "cell_type": "code",
   "execution_count": 7,
   "metadata": {},
   "outputs": [
    {
     "name": "stdout",
     "output_type": "stream",
     "text": [
      "()\n",
      "6\n",
      "('Joy', 'Peace', 'Love', 'Harmony', 'Truth', 'Unity', 'Murna', 'Felicity')\n",
      "8\n",
      "('Orange', 'Banana', 'Watermelon', 'Grapes', 'Lettuce', 'Cabbage', 'Beetroot', 'Carrot', 'Cucumber', 'Milk', 'Bone meal', 'Meat')\n",
      "['Cabbage', 'Beetroot']\n",
      "['Orange', 'Banana', 'Watermelon']\n",
      "['Milk', 'Bone meal', 'Meat']\n",
      "False\n",
      "True\n"
     ]
    }
   ],
   "source": [
    "# Exercise Level 1\n",
    "\n",
    "empty_tuple = tuple()\n",
    "print(empty_tuple)\n",
    "sisters = ('Joy', 'Peace', 'Love')\n",
    "brothers = ('Harmony', 'Truth', 'Unity')\n",
    "siblings = sisters + brothers\n",
    "print(len(siblings))\n",
    "father_mother = ('Murna', 'Felicity')\n",
    "family_members = siblings   + father_mother\n",
    "print (family_members) \n",
    "print(len(family_members))\n",
    "\n",
    "# exercise Level 2\n",
    "\n",
    "fruits = ('Orange', 'Banana', 'Watermelon', 'Grapes')\n",
    "vegetables = ('Lettuce', 'Cabbage', 'Beetroot', 'Carrot', 'Cucumber')\n",
    "animal_product = ('Milk', 'Bone meal', 'Meat')\n",
    "food_stuff_tp = fruits + vegetables + animal_product\n",
    "print(food_stuff_tp)\n",
    "food_stuff_lt = list(food_stuff_tp)\n",
    "mid_foof_lts = food_stuff_lt[5:7]\n",
    "print(mid_foof_lts)\n",
    "first_three_food = food_stuff_lt[0:3]\n",
    "last_three_food = food_stuff_lt[9:12]\n",
    "print(first_three_food)\n",
    "print(last_three_food)\n",
    "del food_stuff_tp\n",
    "# print('Orange' in food_stuff_tp), \n",
    "# food stuff tp has been deleted as above so this line of code wont run\n",
    "\n",
    "\n",
    "nordic_countries = ('Denmark', 'Finland', 'Iceland', 'Norway', 'Sweden')\n",
    "print('Estonia' in nordic_countries)\n",
    "print('Iceland' in nordic_countries) \n",
    "   "
   ]
  }
 ],
 "metadata": {
  "kernelspec": {
   "display_name": "datascience",
   "language": "python",
   "name": "python3"
  },
  "language_info": {
   "codemirror_mode": {
    "name": "ipython",
    "version": 3
   },
   "file_extension": ".py",
   "mimetype": "text/x-python",
   "name": "python",
   "nbconvert_exporter": "python",
   "pygments_lexer": "ipython3",
   "version": "3.11.5"
  }
 },
 "nbformat": 4,
 "nbformat_minor": 2
}
