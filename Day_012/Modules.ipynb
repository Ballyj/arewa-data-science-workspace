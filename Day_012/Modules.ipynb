{
 "cells": [
  {
   "cell_type": "markdown",
   "metadata": {},
   "source": [
    "# Exercise Day 12: Modules"
   ]
  },
  {
   "cell_type": "code",
   "execution_count": 13,
   "metadata": {},
   "outputs": [
    {
     "name": "stdout",
     "output_type": "stream",
     "text": [
      "ZzCqIv\n",
      "Combined string: 5k\n",
      "Random RGB Color: (136, 220, 55)\n"
     ]
    }
   ],
   "source": [
    "import random\n",
    "import string\n",
    "\n",
    "def random_user_id():\n",
    "    # Generate a random alphanumeric string of length 6\n",
    "    random_string = ''.join(random.choices(string.ascii_letters + string.digits, k=6))\n",
    "    return random_string\n",
    "\n",
    "generated_string = random_user_id()\n",
    "print(generated_string)\n",
    "\n",
    "def user_id_gen_by_user(digit, char):\n",
    "    # Ensure the first input is a digit\n",
    "    if not str(digit).isdigit() or len(str(digit)) != 1:\n",
    "        raise ValueError(\"The first input must be a single digit.\")\n",
    "\n",
    "    # Ensure the second input is a single character\n",
    "    if not isinstance(char, str) or len(char) != 1:\n",
    "        raise ValueError(\"The second input must be a single character.\")\n",
    "\n",
    "    # Combine the digit and character into a string\n",
    "    combined_string = str(digit) + char\n",
    "    return combined_string\n",
    "\n",
    "# Example usage:\n",
    "user_digit = input(\"Enter a digit: \")\n",
    "user_char = input(\"Enter a character: \")\n",
    "\n",
    "try:\n",
    "    result = user_id_gen_by_user(user_digit, user_char)\n",
    "    print(\"Combined string:\", result)\n",
    "except ValueError as e:\n",
    "    print(f\"Error: {e}\")\n",
    "\n",
    "    \n",
    "    \n",
    "import random\n",
    "\n",
    "def rgb_color_gen():\n",
    "    # Generate random values for red, green, and blue components\n",
    "    red = random.randint(0, 255)\n",
    "    green = random.randint(0, 255)\n",
    "    blue = random.randint(0, 255)\n",
    "\n",
    "    # Return the RGB color as a tuple\n",
    "    return red, green, blue\n",
    "\n",
    "# Example usage:\n",
    "random_color = rgb_color_gen()\n",
    "print(\"Random RGB Color:\", random_color)"
   ]
  },
  {
   "cell_type": "markdown",
   "metadata": {},
   "source": [
    "# level 2"
   ]
  },
  {
   "cell_type": "code",
   "execution_count": 15,
   "metadata": {},
   "outputs": [
    {
     "name": "stdout",
     "output_type": "stream",
     "text": [
      "Random Hex Colors: ['#cd4497', '#dca41f', '#b5906b', '#536e55', '#ae7f75', '#120556']\n"
     ]
    }
   ],
   "source": [
    "import random\n",
    "\n",
    "def list_of_hexa_colors(num_colors):\n",
    "    # Ensure the input is a positive integer\n",
    "    if not isinstance(num_colors, int) or num_colors <= 0:\n",
    "        raise ValueError(\"Input must be a positive integer.\")\n",
    "\n",
    "    # Generate random hexadecimal colors\n",
    "    random_colors = ['#%06x' % random.randint(0, 0xFFFFFF) for _ in range(num_colors)]\n",
    "\n",
    "    # Return the list of colors\n",
    "    return random_colors\n",
    "num_colors_to_generate = 6\n",
    "random_hex_colors = list_of_hexa_colors(num_colors_to_generate)\n",
    "print(\"Random Hex Colors:\", random_hex_colors)\n"
   ]
  },
  {
   "cell_type": "markdown",
   "metadata": {},
   "source": [
    "# Level 3"
   ]
  },
  {
   "cell_type": "code",
   "execution_count": 22,
   "metadata": {},
   "outputs": [
    {
     "name": "stdout",
     "output_type": "stream",
     "text": [
      "Original List: [1, 2, 3, 4, 5]\n",
      "Shuffled List: [1, 5, 4, 2, 3]\n",
      "Seven Random Numbers: [7, 9, 7, 1, 9, 8, 3]\n"
     ]
    }
   ],
   "source": [
    "import random\n",
    "\n",
    "def shuffle_list(input_list):\n",
    "    # Create a copy of the input list to avoid modifying the original list\n",
    "    shuffled_list = input_list.copy()\n",
    "    \n",
    "    # Shuffle the copied list in-place\n",
    "    random.shuffle(shuffled_list)\n",
    "    \n",
    "    return shuffled_list\n",
    "original_list = [1, 2, 3, 4, 5]\n",
    "shuffled_result = shuffle_list(original_list)\n",
    "print(\"Original List:\", original_list)\n",
    "print(\"Shuffled List:\", shuffled_result)\n",
    "\n",
    "import random\n",
    "\n",
    "def gen_seven_random_nums():\n",
    "    # Generate an array of seven random numbers\n",
    "    random_numbers = [random.randint(0, 9) for _ in range(7)]\n",
    "    return random_numbers\n",
    "\n",
    "seven_random_numbers = gen_seven_random_nums()\n",
    "print(\"Seven Random Numbers:\", seven_random_numbers)\n",
    "\n"
   ]
  }
 ],
 "metadata": {
  "kernelspec": {
   "display_name": "datascience",
   "language": "python",
   "name": "python3"
  },
  "language_info": {
   "codemirror_mode": {
    "name": "ipython",
    "version": 3
   },
   "file_extension": ".py",
   "mimetype": "text/x-python",
   "name": "python",
   "nbconvert_exporter": "python",
   "pygments_lexer": "ipython3",
   "version": "3.11.5"
  }
 },
 "nbformat": 4,
 "nbformat_minor": 2
}
