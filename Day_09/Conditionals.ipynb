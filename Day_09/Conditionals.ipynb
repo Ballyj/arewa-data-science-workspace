{
 "cells": [
  {
   "cell_type": "markdown",
   "metadata": {},
   "source": [
    "# Conditionals: Exercise Day 9\n",
    "\n",
    "## Exercise Level 1"
   ]
  },
  {
   "cell_type": "code",
   "execution_count": 3,
   "metadata": {},
   "outputs": [
    {
     "name": "stdout",
     "output_type": "stream",
     "text": [
      "Access Granted!\n",
      "You are old enough to learn to drive. \n",
      "We are age mate: \n"
     ]
    }
   ],
   "source": [
    "user = input('Enter your user ID: ')\n",
    "access_level = int(input('Enter your access level'))\n",
    "if user == 'admin' or access_level >= 4:\n",
    "    print('Access Granted!')\n",
    "else:\n",
    "    print('Access Denied!')\n",
    "    \n",
    "    # LEVEL 1\n",
    "age = int(input('Enter your Age: '))\n",
    "if age >= 18:\n",
    "    print('You are old enough to learn to drive. ')\n",
    "else:\n",
    "    print('You need some few more years to learn to drive.  ')\n",
    "    \n",
    "my_age = 36\n",
    "your_age = int(input('Enter your age: '))\n",
    "if my_age == your_age:\n",
    "    print(\"We are age mate. \")\n",
    "elif my_age > your_age:\n",
    "    print('I am older than your. ')\n",
    "else:\n",
    "    print('You are older than me. ')\n",
    "\n",
    "a = input('Enter first number: ')\n",
    "b = input('Enter second number: ')\n",
    "if a > b:\n",
    "    print('First number is greater than Second number! ')\n",
    "elif a < b:\n",
    "    print('First number is less than Second number! ')\n",
    "else:\n",
    "    print('First number is eqeual to Second number! ')\n",
    "\n",
    "    \n",
    "\n",
    "\n",
    "    "
   ]
  },
  {
   "cell_type": "markdown",
   "metadata": {},
   "source": [
    "## Exercise Level 2"
   ]
  },
  {
   "cell_type": "code",
   "execution_count": 9,
   "metadata": {},
   "outputs": [
    {
     "name": "stdout",
     "output_type": "stream",
     "text": [
      "The student has D: \n",
      "WRong command\n"
     ]
    }
   ],
   "source": [
    "scores = int(input('Enter the student score: '))\n",
    "if scores >= 80:\n",
    "    print('The student has A:')\n",
    "elif scores >= 70 and scores < 80:\n",
    "    print('The student has B: ')\n",
    "elif scores >= 60 and scores < 70:\n",
    "    print('The student has C: ')\n",
    "elif scores >= 50 and scores < 60:\n",
    "    print('The student has D: ')\n",
    "else:\n",
    "    print('The student has F: ')\n",
    "    \n",
    "month_year = ['January', 'Febuary', 'March', 'April', 'May','June', 'July', 'August', 'September', 'October', 'November', 'December']     \n",
    "month_year = input('Enter the month of the Year: ')\n",
    "if month_year == 'September' or month_year == 'October' or month_year == 'November':\n",
    "    print('The Season is Autumn. ')\n",
    "elif month_year == 'December' or month_year == 'January' or month_year == 'February':\n",
    "    print('The Season is Winter. ')\n",
    "elif month_year == 'March' or month_year == 'April' or month_year == 'May':\n",
    "    print('The Season is Spring. ')\n",
    "elif month_year == 'June' or month_year == 'July' or month_year == 'August':\n",
    "    print('The Season is Summer. ')\n",
    "else:\n",
    "    print('Wrong command')\n"
   ]
  },
  {
   "cell_type": "code",
   "execution_count": 25,
   "metadata": {},
   "outputs": [
    {
     "name": "stdout",
     "output_type": "stream",
     "text": [
      "{'first_namee': 'Ibrahim', 'last_name': 'Yusuf', 'age': 38, 'country': 'Nigeria', 'is_married': True, 'skills': ['Javascript', 'React', 'Node', 'MongoDB', 'Python'], 'address': {'street': 'kuyanbana', 'zipcode': 512}}\n",
      "True\n",
      "None\n"
     ]
    }
   ],
   "source": [
    "person = {'first_namee': 'Ibrahim', \n",
    "          'last_name': 'Yusuf', \n",
    "          'age': 38, \n",
    "          'country': 'Nigeria', \n",
    "          'is_married': True, \n",
    "          'skills': ['Javascript', \n",
    "             'React', 'Node', 'MongoDB', 'Python'],\n",
    "          'address': {'street': 'kuyanbana',\n",
    "                      'zipcode': 512}\n",
    "}\n",
    "print(person)\n",
    "print(\"skills\" in person)\n",
    "print(person.get('skills'[2]))\n",
    "\n",
    "\n"
   ]
  }
 ],
 "metadata": {
  "kernelspec": {
   "display_name": "datascience",
   "language": "python",
   "name": "python3"
  },
  "language_info": {
   "codemirror_mode": {
    "name": "ipython",
    "version": 3
   },
   "file_extension": ".py",
   "mimetype": "text/x-python",
   "name": "python",
   "nbconvert_exporter": "python",
   "pygments_lexer": "ipython3",
   "version": "3.11.5"
  }
 },
 "nbformat": 4,
 "nbformat_minor": 2
}
