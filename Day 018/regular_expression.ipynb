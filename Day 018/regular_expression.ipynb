{
 "cells": [
  {
   "cell_type": "markdown",
   "metadata": {},
   "source": [
    "# Exercise Day 18: Regular Expression"
   ]
  },
  {
   "cell_type": "code",
   "execution_count": 1,
   "metadata": {},
   "outputs": [
    {
     "name": "stdout",
     "output_type": "stream",
     "text": [
      "The most frequent word is 'love' with a frequency of 6.\n"
     ]
    }
   ],
   "source": [
    "import re\n",
    "from collections import Counter\n",
    "\n",
    "def most_frequent_word(paragraph):\n",
    "    # Use regex to extract words from the paragraph\n",
    "    words = re.findall(r'\\b\\w+\\b', paragraph.lower())\n",
    "\n",
    "    # Use Counter to count the occurrences of each word\n",
    "    word_counts = Counter(words)\n",
    "\n",
    "    # Find the most common word\n",
    "    most_common_word, frequency = word_counts.most_common(1)[0]\n",
    "\n",
    "    return most_common_word, frequency\n",
    "\n",
    "paragraph = 'I Love teaching. If you do not love teaching what else can you love. I love Python if you do not love something which can give you all the capabilities to develop an application what else can you love'\n",
    "result_word, result_frequency = most_frequent_word(paragraph)\n",
    "\n",
    "print(\"The most frequent word is\", result_word, \"with a frequency of\", result_frequency)\n"
   ]
  },
  {
   "cell_type": "markdown",
   "metadata": {},
   "source": [
    "# Level 2"
   ]
  },
  {
   "cell_type": "code",
   "execution_count": 3,
   "metadata": {},
   "outputs": [
    {
     "name": "stdout",
     "output_type": "stream",
     "text": [
      "4646 64646 is not a valid Python variable name.\n"
     ]
    }
   ],
   "source": [
    "import re\n",
    "\n",
    "def is_valid_variable(variable_name):\n",
    "    pattern = re.compile(r'^[a-zA-Z_][a-zA-Z0-9_]*$')\n",
    "    return bool(pattern.match(variable_name))\n",
    "\n",
    "variable_name = input(\"enter a variable\") #\"my_variable123\"\n",
    "if is_valid_variable(variable_name):\n",
    "    print(variable_name, \"is a valid Python variable name.\")\n",
    "else:\n",
    "    print(variable_name, \"is not a valid Python variable name.\")\n"
   ]
  },
  {
   "cell_type": "markdown",
   "metadata": {},
   "source": [
    "# Level 3"
   ]
  },
  {
   "cell_type": "code",
   "execution_count": 7,
   "metadata": {},
   "outputs": [],
   "source": [
    "import re \n",
    "def clean_text(text):\n",
    "    clean_text  = re.sub(r'^[a-zA-Z_][a-zA-Z0-9_]')\n",
    "    sentence = '''%I $am# a te@cher&, &and& I Love# %tea@ching;. there $is nothing; $as% mo@re rewarding as educat@ing @and# @emp#o@wering peo@ple. ;I found tea@ching m#o@re interesting tha@n any other %jo@bs. %Do@es thi@s moti@vate yo@u to be a tea@cher!?'''\n",
    "    print(clean_text(sentence))"
   ]
  },
  {
   "cell_type": "code",
   "execution_count": 16,
   "metadata": {},
   "outputs": [
    {
     "name": "stdout",
     "output_type": "stream",
     "text": [
      "Cleaned String: I am a techer and I Love teaching there is nothing as more rewarding as educating and empowering people I found teaching more interesting than any other jobs Does this motivate you to be a teacher\n"
     ]
    }
   ],
   "source": [
    "import re\n",
    "\n",
    "def remove_non_alphanumeric(sentence):\n",
    "    # Use regex to remove non-alphanumeric characters\n",
    "    cleaned_text = re.sub(r'[^a-zA-Z0-9\\s]', '', sentence)\n",
    "    return cleaned_text\n",
    "\n",
    "sentence = '''%I $am# a te@cher&, &and& I Love# %tea@ching;. there $is nothing; $as% mo@re rewarding as educat@ing @and# @emp#o@wering peo@ple. ;I found tea@ching m#o@re interesting tha@n any other %jo@bs. %Do@es thi@s moti@vate yo@u to be a tea@cher!?'''\n",
    "cleaned_text = remove_non_alphanumeric(sentence)\n",
    "\n",
    "print(f\"Cleaned String: {cleaned_text}\")\n"
   ]
  }
 ],
 "metadata": {
  "kernelspec": {
   "display_name": "datascience",
   "language": "python",
   "name": "python3"
  },
  "language_info": {
   "codemirror_mode": {
    "name": "ipython",
    "version": 3
   },
   "file_extension": ".py",
   "mimetype": "text/x-python",
   "name": "python",
   "nbconvert_exporter": "python",
   "pygments_lexer": "ipython3",
   "version": "3.11.5"
  }
 },
 "nbformat": 4,
 "nbformat_minor": 2
}
