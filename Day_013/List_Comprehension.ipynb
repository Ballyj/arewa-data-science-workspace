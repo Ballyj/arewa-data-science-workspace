{
 "cells": [
  {
   "cell_type": "code",
   "execution_count": 11,
   "metadata": {},
   "outputs": [
    {
     "name": "stdout",
     "output_type": "stream",
     "text": [
      "[0, 1, 2, 3, 4, 5, 6, 7, 8]\n",
      "[1, 2, 3, 4, 5, 6, 7, 8, 9]\n",
      "Nested List of Strings: [[('FInland', 'Helsinki')], [('Sweden', 'Stockholm')], [('Norway', 'Oslo')]]\n",
      "Flattened List: [('FInland', 'Helsinki'), ('Sweden', 'Stockholm'), ('Norway', 'Oslo')]\n",
      "Resulting Dictionary: {'Country': ('Finland', 'Helsinki'), 'city': ('Norway', 'Oslo')}\n",
      "Slope is:  0.5\n"
     ]
    }
   ],
   "source": [
    "numbers = [-4, -3, -2, -1, 0, 2, 4, 6]\n",
    "positive_num = [i for i in range(9) if i >= 0]\n",
    "print(positive_num)\n",
    "\n",
    "# flattening a list of list\n",
    "list_of_list = [[1, 2, 3], [4, 5, 6], [7, 8, 9]]\n",
    "flat_list = [i for row in list_of_list for i in row]\n",
    "print(flat_list)\n",
    "\n",
    "countries = [[('FInland', 'Helsinki')], [('Sweden', 'Stockholm')], [('Norway', 'Oslo')]]\n",
    "\n",
    "flattened_list = [i for sublist in countries for i in sublist]\n",
    "\n",
    "print(\"Nested List of Strings:\", countries)\n",
    "print(\"Flattened List:\", flattened_list)\n",
    "\n",
    "keys = ['Country', 'city']\n",
    "values = [('Finland','Helsinki'), ('Norway', 'Oslo'), ('Sweden', 'Stockholm')]\n",
    "\n",
    "# Convert the lists to a dictionary using list comprehension\n",
    "result_dict = {keys[i]: values[i] for i in range(min(len(keys), len(values)))}\n",
    "\n",
    "print(\"Resulting Dictionary:\", result_dict)\n",
    "\n",
    "\n",
    "# Lambda function to calculate the slope (m) of a linear equation\n",
    "slope_function = lambda x1, y1, x2, y2: (y2 - y1) / (x2 - x1) if x2 != x1 else None\n",
    "\n",
    "x1, y1 = 4, 9\n",
    "x2, y2 = 8, 11\n",
    "\n",
    "# Calculate the slope\n",
    "slope = slope_function(x1, y1, x2, y2)\n",
    "print(\"Slope is: \", slope)\n",
    "\n"
   ]
  }
 ],
 "metadata": {
  "kernelspec": {
   "display_name": "datascience",
   "language": "python",
   "name": "python3"
  },
  "language_info": {
   "codemirror_mode": {
    "name": "ipython",
    "version": 3
   },
   "file_extension": ".py",
   "mimetype": "text/x-python",
   "name": "python",
   "nbconvert_exporter": "python",
   "pygments_lexer": "ipython3",
   "version": "3.11.5"
  }
 },
 "nbformat": 4,
 "nbformat_minor": 2
}
