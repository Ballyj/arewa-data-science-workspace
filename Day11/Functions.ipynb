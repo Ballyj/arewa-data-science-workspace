{
 "cells": [
  {
   "cell_type": "code",
   "execution_count": 5,
   "metadata": {},
   "outputs": [
    {
     "name": "stdout",
     "output_type": "stream",
     "text": [
      "11\n",
      "153.86\n",
      "19\n",
      "25 degrees Celsius is equal to 77.0 degrees Fahrenheit.\n"
     ]
    },
    {
     "name": "stdout",
     "output_type": "stream",
     "text": [
      "The season for month 9 is Autumn\n"
     ]
    }
   ],
   "source": [
    "def add_two_numbers(num1, num2): #function that add two numbers\n",
    "    total = num1 + num2\n",
    "    return total\n",
    "print(add_two_numbers(5, 6))\n",
    "\n",
    "def area_of_circle (r):\n",
    "    pi = 3.14\n",
    "    area = pi * r ** 2\n",
    "    return area\n",
    "print(area_of_circle(7))\n",
    "\n",
    "def add_all_numbers(*nums):\n",
    "    total = 0\n",
    "    for number in nums:\n",
    "        total += number\n",
    "    return total\n",
    "print(add_all_numbers(5, 6, 8))\n",
    "\n",
    "def celsius_to_fahrenheit(celsius): # celsius to fahrenheit\n",
    "    fahrenheit = (celsius * 9/5) + 32\n",
    "    return fahrenheit\n",
    "celsius_value = 25\n",
    "fahrenheit_result = celsius_to_fahrenheit(celsius_value)\n",
    "print(celsius_value, 'degrees Celsius is equal to', fahrenheit_result, \"degrees Fahrenheit.\")\n",
    "\n",
    "def check_season(month): # checking season\n",
    "    if month in [12, 1, 2]:\n",
    "        return \"Winter\"\n",
    "    elif month in [3, 4, 5]:\n",
    "        return \"Spring\"\n",
    "    elif month in [6, 7, 8]:\n",
    "        return \"Summer\"\n",
    "    elif month in [9, 10, 11]:\n",
    "        return \"Autumn\"\n",
    "    else:\n",
    "        return \"Invalid month\"\n",
    "month_input = int(input(\"Enter the mont of the year\"))\n",
    "result = check_season(month_input)\n",
    "print(\"The season for month\", month_input, \"is\", result)\n",
    "\n",
    "def linear_slope(m):\n",
    "    return m\n",
    "linear_slope_value = int(input(\"Enter the slope value\"))\n",
    "print(f\"The slope of the linear equation is {linear_slope(linear_slope_value)}.\")\n",
    "\n",
    "import cmath  # Importing cmath for handling complex numbers\n",
    "\n",
    "def quadratic_solver(a, b, c):\n",
    "    # Calculate the discriminant\n",
    "    discriminant = cmath.sqrt(b**2 - 4*a*c)\n",
    "\n",
    "    # Calculate the solutions\n",
    "    solution1 = (-b + discriminant) / (2 * a)\n",
    "    solution2 = (-b - discriminant) / (2 * a)\n",
    "\n",
    "    return solution1, solution2\n",
    "\n",
    "a_value = float(input('Enter the value of a: '))\n",
    "b_value = float(input('Enter the value of b: '))\n",
    "c_value = float(input('Enter the value of c: '))\n",
    "\n",
    "solutions = quadratic_solver(a_value, b_value, c_value)\n",
    "print(\"The solutions of the quadratic equation are: \", solutions)\n"
   ]
  }
 ],
 "metadata": {
  "kernelspec": {
   "display_name": "datascience",
   "language": "python",
   "name": "python3"
  },
  "language_info": {
   "codemirror_mode": {
    "name": "ipython",
    "version": 3
   },
   "file_extension": ".py",
   "mimetype": "text/x-python",
   "name": "python",
   "nbconvert_exporter": "python",
   "pygments_lexer": "ipython3",
   "version": "3.11.5"
  }
 },
 "nbformat": 4,
 "nbformat_minor": 2
}
