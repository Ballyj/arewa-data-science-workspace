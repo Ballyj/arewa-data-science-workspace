{
 "cells": [
  {
   "cell_type": "code",
   "execution_count": 1,
   "metadata": {},
   "outputs": [
    {
     "ename": "NameError",
     "evalue": "name 'stats_calculator' is not defined",
     "output_type": "error",
     "traceback": [
      "\u001b[1;31m---------------------------------------------------------------------------\u001b[0m",
      "\u001b[1;31mNameError\u001b[0m                                 Traceback (most recent call last)",
      "Cell \u001b[1;32mIn[1], line 32\u001b[0m\n\u001b[0;32m     28\u001b[0m         \u001b[38;5;28;01mreturn\u001b[39;00m \u001b[38;5;28mmax\u001b[39m(\u001b[38;5;28mself\u001b[39m\u001b[38;5;241m.\u001b[39mages) \u001b[38;5;241m-\u001b[39m \u001b[38;5;28mmin\u001b[39m(\u001b[38;5;28mself\u001b[39m\u001b[38;5;241m.\u001b[39mages)\n\u001b[0;32m     30\u001b[0m \u001b[38;5;66;03m# Calculate and print mean, median, mode, variance,standard deviation and range\u001b[39;00m\n\u001b[1;32m---> 32\u001b[0m \u001b[38;5;28mprint\u001b[39m(\u001b[38;5;124m\"\u001b[39m\u001b[38;5;124mMean:\u001b[39m\u001b[38;5;124m\"\u001b[39m, \u001b[43mstats_calculator\u001b[49m\u001b[38;5;241m.\u001b[39mcalculate_mean())\n\u001b[0;32m     33\u001b[0m \u001b[38;5;28mprint\u001b[39m(\u001b[38;5;124m\"\u001b[39m\u001b[38;5;124mMedian:\u001b[39m\u001b[38;5;124m\"\u001b[39m, stats_calculator\u001b[38;5;241m.\u001b[39mcalculate_median())\n\u001b[0;32m     34\u001b[0m \u001b[38;5;28mprint\u001b[39m(\u001b[38;5;124m\"\u001b[39m\u001b[38;5;124mMode:\u001b[39m\u001b[38;5;124m\"\u001b[39m, stats_calculator\u001b[38;5;241m.\u001b[39mcalculate_mode())\n",
      "\u001b[1;31mNameError\u001b[0m: name 'stats_calculator' is not defined"
     ]
    }
   ],
   "source": [
    "import statistics\n",
    "class dataSetcounter:\n",
    "    def __init__(self, ages = [31, 26, 34, 37, 27, 26, 32, 32, 26, 27, 27, 24, 32, 33, 27, 25, 26, 38, 37, 31, 34, 24, 33, 29, 26]):\n",
    "        self.ages = ages\n",
    "    def count_calculator(self):\n",
    "        \n",
    "        return len(self.ages)\n",
    "class StatisticalMeasures:\n",
    "    def __init__(self, ages = [31, 26, 34, 37, 27, 26, 32, 32, 26, 27, 27, 24, 32, 33, 27, 25, 26, 38, 37, 31, 34, 24, 33, 29, 26]):\n",
    "        self.ages = ages\n",
    "    \n",
    "    def calculate_mean(self):\n",
    "        return statistics.mean(self.ages)\n",
    "\n",
    "    def calculate_median(self):\n",
    "        return statistics.median(self.ages)\n",
    "\n",
    "    def calculate_mode(self):\n",
    "        return statistics.mode(self.ages)\n",
    "\n",
    "    def calculate_variance(self):\n",
    "        return statistics.variance(self.ages)\n",
    "\n",
    "    def calculate_stdev(self):\n",
    "        return statistics.stdev(self.ages)\n",
    "\n",
    "    def calculate_range(self):\n",
    "        return max(self.ages) - min(self.ages)\n",
    "\n",
    "# Calculate and print mean, median, mode, variance,standard deviation and range\n",
    "\n",
    "print(\"Mean:\", stats_calculator.calculate_mean())\n",
    "print(\"Median:\", stats_calculator.calculate_median())\n",
    "print(\"Mode:\", stats_calculator.calculate_mode())\n",
    "print(\"Variance:\", stats_calculator.calculate_variance())\n",
    "print(\"Standard Deviation:\", stats_calculator.calculate_stdev())\n",
    "print(\"Range:\", stats_calculator.calculate_range())\n"
   ]
  }
 ],
 "metadata": {
  "kernelspec": {
   "display_name": "datascience",
   "language": "python",
   "name": "python3"
  },
  "language_info": {
   "codemirror_mode": {
    "name": "ipython",
    "version": 3
   },
   "file_extension": ".py",
   "mimetype": "text/x-python",
   "name": "python",
   "nbconvert_exporter": "python",
   "pygments_lexer": "ipython3",
   "version": "3.11.5"
  }
 },
 "nbformat": 4,
 "nbformat_minor": 2
}
