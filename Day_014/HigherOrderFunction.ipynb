{
 "cells": [
  {
   "cell_type": "markdown",
   "metadata": {},
   "source": [
    "## Exercise Level 1\n"
   ]
  },
  {
   "cell_type": "code",
   "execution_count": 2,
   "metadata": {},
   "outputs": [
    {
     "name": "stdout",
     "output_type": "stream",
     "text": [
      "[1, 8, 27, 64, 125]\n"
     ]
    }
   ],
   "source": [
    "# map: Applies a given function to each element of a collection and returns a new collection with the results.\n",
    "numbers = [1, 2, 3, 4, 5]\n",
    "def cube(x):\n",
    "    return x ** 3\n",
    "num_cubed = map(cube, numbers)\n",
    "print(list(num_cubed))"
   ]
  },
  {
   "cell_type": "code",
   "execution_count": 3,
   "metadata": {},
   "outputs": [
    {
     "name": "stdout",
     "output_type": "stream",
     "text": [
      "[1, 3, 5]\n"
     ]
    }
   ],
   "source": [
    "# filter: Filters elements from a collection based on a given condition and returns a new collection with the elements that satisfy the condition.\n",
    "numbers = [1, 2, 3, 4, 5]\n",
    "def is_odd(x):\n",
    "    if x % 2 != 0:\n",
    "        return True\n",
    "    return False\n",
    "odd_num = filter(is_odd, numbers)\n",
    "print(list(odd_num))"
   ]
  },
  {
   "cell_type": "code",
   "execution_count": 4,
   "metadata": {},
   "outputs": [
    {
     "name": "stdout",
     "output_type": "stream",
     "text": [
      "120\n"
     ]
    }
   ],
   "source": [
    "# reduce: Applies a binary function cumulatively to the elements of a collection from left to right, reducing the collection to a single accumulated result.\n",
    "from functools import reduce\n",
    "\n",
    "numbers = [1, 2, 3, 4, 5]\n",
    "product = reduce(lambda x, y: x * y, numbers)\n",
    "print(product) "
   ]
  },
  {
   "cell_type": "code",
   "execution_count": null,
   "metadata": {},
   "outputs": [],
   "source": [
    "\"\"\"Higher-Order Function:\n",
    "A higher-order function is a function that can take one or more functions as arguments and/or can return a function as its resul"
   ]
  },
  {
   "cell_type": "code",
   "execution_count": 5,
   "metadata": {},
   "outputs": [
    {
     "name": "stdout",
     "output_type": "stream",
     "text": [
      "Estonia\n",
      "Finland\n",
      "Sweden\n",
      "Denmark\n",
      "Norway\n",
      "Iceland\n"
     ]
    }
   ],
   "source": [
    "# no.4 \n",
    "countries = ['Estonia', 'Finland', 'Sweden', 'Denmark', 'Norway', 'Iceland']\n",
    "\n",
    "\n",
    "for country in countries:\n",
    "    print(country)"
   ]
  },
  {
   "cell_type": "code",
   "execution_count": 6,
   "metadata": {},
   "outputs": [
    {
     "name": "stdout",
     "output_type": "stream",
     "text": [
      "Asabeneh\n",
      "Lidiya\n",
      "Ermias\n",
      "Abraham\n"
     ]
    }
   ],
   "source": [
    "names = ['Asabeneh', 'Lidiya', 'Ermias', 'Abraham']\n",
    "for name in names:\n",
    "    print(name)"
   ]
  },
  {
   "cell_type": "code",
   "execution_count": 8,
   "metadata": {},
   "outputs": [
    {
     "name": "stdout",
     "output_type": "stream",
     "text": [
      "1\n",
      "2\n",
      "3\n",
      "4\n",
      "5\n",
      "6\n",
      "7\n",
      "8\n",
      "9\n",
      "10\n"
     ]
    }
   ],
   "source": [
    "numbers = [1, 2, 3, 4, 5, 6, 7, 8, 9, 10]\n",
    "\n",
    "for num in numbers:\n",
    "    print(num)"
   ]
  },
  {
   "cell_type": "markdown",
   "metadata": {},
   "source": [
    "# Exercise Level 2"
   ]
  },
  {
   "cell_type": "code",
   "execution_count": 9,
   "metadata": {},
   "outputs": [
    {
     "name": "stdout",
     "output_type": "stream",
     "text": [
      "['ESTONIA', 'FINLAND', 'SWEDEN', 'DENMARK', 'NORWAY', 'ICELAND']\n"
     ]
    }
   ],
   "source": [
    "#no.1\n",
    "countries = ['Estonia', 'Finland', 'Sweden', 'Denmark', 'Norway', 'Iceland']\n",
    "uppercase_countries = list(map(lambda country: country.upper(), countries))\n",
    "\n",
    "print(uppercase_countries)"
   ]
  },
  {
   "cell_type": "code",
   "execution_count": 10,
   "metadata": {},
   "outputs": [
    {
     "name": "stdout",
     "output_type": "stream",
     "text": [
      "[1, 4, 9, 16, 25, 36, 49, 64, 81, 100]\n"
     ]
    }
   ],
   "source": [
    "#no. 2\n",
    "numbers = [1, 2, 3, 4, 5, 6, 7, 8, 9, 10]\n",
    "\n",
    "squared_numbers = list(map(lambda num: num ** 2, numbers))\n",
    "\n",
    "print(squared_numbers)\n"
   ]
  },
  {
   "cell_type": "code",
   "execution_count": 11,
   "metadata": {},
   "outputs": [
    {
     "name": "stdout",
     "output_type": "stream",
     "text": [
      "['ASABENEH', 'LIDIYA', 'ERMIAS', 'ABRAHAM']\n"
     ]
    }
   ],
   "source": [
    "#no. 3\n",
    "names = ['Asabeneh', 'Lidiya', 'Ermias', 'Abraham']\n",
    "uppercase_names = list(map(lambda name: name.upper(), names))\n",
    "\n",
    "print(uppercase_names)"
   ]
  },
  {
   "cell_type": "code",
   "execution_count": 13,
   "metadata": {},
   "outputs": [
    {
     "name": "stdout",
     "output_type": "stream",
     "text": [
      "['Estonia', 'Sweden', 'Denmark', 'Norway']\n"
     ]
    }
   ],
   "source": [
    "#no. 4\n",
    "countries = ['Estonia', 'Finland', 'Sweden', 'Denmark', 'Norway', 'Iceland']\n",
    "\n",
    "filtered_countries = filter(lambda country: 'land' not in country.lower(), countries)\n",
    "\n",
    "print(list(filtered_countries))"
   ]
  },
  {
   "cell_type": "code",
   "execution_count": 14,
   "metadata": {},
   "outputs": [
    {
     "name": "stdout",
     "output_type": "stream",
     "text": [
      "['Sweden', 'Norway']\n"
     ]
    }
   ],
   "source": [
    "#no.5\n",
    "countries = ['Estonia', 'Finland', 'Sweden', 'Denmark', 'Norway', 'Iceland']\n",
    "\n",
    "filtered_countries = filter(lambda country: len(country) == 6, countries)\n",
    "\n",
    "print(list(filtered_countries))\n"
   ]
  },
  {
   "cell_type": "code",
   "execution_count": 15,
   "metadata": {},
   "outputs": [
    {
     "name": "stdout",
     "output_type": "stream",
     "text": [
      "['Estonia', 'Finland', 'Sweden', 'Denmark', 'Norway', 'Iceland']\n"
     ]
    }
   ],
   "source": [
    "#no.6\n",
    "countries = ['Estonia', 'Finland', 'Sweden', 'Denmark', 'Norway', 'Iceland']\n",
    "\n",
    "filtered_countries = filter(lambda country: len(country) >= 6, countries)\n",
    "\n",
    "print(list(filtered_countries))"
   ]
  },
  {
   "cell_type": "code",
   "execution_count": 16,
   "metadata": {},
   "outputs": [
    {
     "name": "stdout",
     "output_type": "stream",
     "text": [
      "['Estonia']\n"
     ]
    }
   ],
   "source": [
    "#no.7\n",
    "countries = ['Estonia', 'Finland', 'Sweden', 'Denmark', 'Norway', 'Iceland']\n",
    "filtered_countries = list(filter(lambda country: country.startswith('E'), countries))\n",
    "\n",
    "print(filtered_countries)"
   ]
  },
  {
   "cell_type": "code",
   "execution_count": 17,
   "metadata": {},
   "outputs": [
    {
     "name": "stdout",
     "output_type": "stream",
     "text": [
      "[4, 8, 12, 16, 20]\n"
     ]
    }
   ],
   "source": [
    "#no.8\n",
    "from functools import reduce\n",
    "numbers = [1, 2, 3, 4, 5, 6, 7, 8, 9, 10]\n",
    "\n",
    "result = (\n",
    "    map(lambda x: x * 2,  # doubling each number\n",
    "        filter(lambda x: x % 2 == 0,  # filtering even numbers\n",
    "            numbers))\n",
    ")\n",
    "result_list = list(result) # Converting the result to a list\n",
    "\n",
    "# Printing the result\n",
    "print(result_list)"
   ]
  },
  {
   "cell_type": "code",
   "execution_count": 21,
   "metadata": {},
   "outputs": [
    {
     "name": "stdout",
     "output_type": "stream",
     "text": [
      "['apple', 'banana', 'orange', '42']\n"
     ]
    }
   ],
   "source": [
    "#no.9\n",
    "def get_string_lists(input_list):\n",
    "    return list(filter(lambda x: isinstance(x, str), input_list))\n",
    "\n",
    "mixed_list = [1, 'apple', 3.14, 'banana', True, 'orange', '42']\n",
    "string_list = get_string_lists(mixed_list)\n",
    "print(string_list)"
   ]
  },
  {
   "cell_type": "code",
   "execution_count": 22,
   "metadata": {},
   "outputs": [
    {
     "name": "stdout",
     "output_type": "stream",
     "text": [
      "Sum of numbers:  55\n"
     ]
    }
   ],
   "source": [
    "#no.10\n",
    "from functools import reduce\n",
    "\n",
    "numbers = [1, 2, 3, 4, 5, 6, 7, 8, 9, 10]\n",
    "\n",
    "sum_of_numbers = reduce(lambda x, y: x + y, numbers)\n",
    "\n",
    "print(\"Sum of numbers: \", sum_of_numbers)"
   ]
  },
  {
   "cell_type": "code",
   "execution_count": 23,
   "metadata": {},
   "outputs": [
    {
     "name": "stdout",
     "output_type": "stream",
     "text": [
      "Estonia, Finland, Sweden, Denmark, Norway, Iceland are north European countries, and they drink more coffee than anywhere else in the world.\n"
     ]
    }
   ],
   "source": [
    "#no.11\n",
    "from functools import reduce\n",
    "\n",
    "# List of countries\n",
    "countries = ['Estonia', 'Finland', 'Sweden', 'Denmark', 'Norway', 'Iceland']\n",
    "\n",
    "# Using reduce to concatenate the countries\n",
    "concatenated_countries = reduce(lambda x, y: f\"{x}, {y}\", countries)\n",
    "\n",
    "# Forming the sentence\n",
    "sentence = f\"{concatenated_countries} are north European countries, and they drink more coffee than anywhere else in the world.\"\n",
    "print(sentence)"
   ]
  },
  {
   "cell_type": "code",
   "execution_count": 30,
   "metadata": {},
   "outputs": [
    {
     "name": "stdout",
     "output_type": "stream",
     "text": [
      "{'land_countries': ['Finland', 'Iceland', 'Thailand', 'Ireland', 'Islands', 'Poland', 'Switzerland'], 'ia_countries': [], 'island_countries': [], 'stan_countries': ['Afghanistan', 'Pakistan', 'Uzbekistan']}\n"
     ]
    }
   ],
   "source": [
    "#no.12\n",
    "#from countries import countries\n",
    "def categorize_countries(countries):\n",
    "    # Initialize empty lists for each category\n",
    "    land_countries = []\n",
    "    ia_countries = []\n",
    "    island_countries = []\n",
    "    stan_countries = []\n",
    "\n",
    "    # Categorize countries based on patterns\n",
    "    for country in countries:\n",
    "        if 'land' in country.lower():\n",
    "            land_countries.append(country)\n",
    "        elif 'ia' in country.lower():\n",
    "            ia_countries.append(country)\n",
    "        elif 'island' in country.lower():\n",
    "            island_countries.append(country)\n",
    "        elif 'stan' in country.lower():\n",
    "            stan_countries.append(country)\n",
    "\n",
    "    # Create a dictionary to store the categorized countries\n",
    "    categorized_countries = {\n",
    "        'land_countries': land_countries,\n",
    "        'ia_countries': ia_countries,\n",
    "        'island_countries': island_countries,\n",
    "        'stan_countries': stan_countries\n",
    "    }\n",
    "\n",
    "    return categorized_countries\n",
    "\n",
    "countries_list = [\n",
    "    'Afghanistan', 'Finland', 'Iceland', 'Thailand', 'Pakistan',\n",
    "    'Ireland', 'Islands', 'Poland', 'Uzbekistan', 'Switzerland'\n",
    "]\n",
    "\n",
    "result = categorize_countries(countries_list)\n",
    "print(result)\n"
   ]
  },
  {
   "cell_type": "markdown",
   "metadata": {},
   "source": [
    "# Exercise Level 3"
   ]
  },
  {
   "cell_type": "code",
   "execution_count": 40,
   "metadata": {},
   "outputs": [
    {
     "ename": "TypeError",
     "evalue": "string indices must be integers, not 'str'",
     "output_type": "error",
     "traceback": [
      "\u001b[1;31m---------------------------------------------------------------------------\u001b[0m",
      "\u001b[1;31mTypeError\u001b[0m                                 Traceback (most recent call last)",
      "Cell \u001b[1;32mIn[40], line 1\u001b[0m\n\u001b[1;32m----> 1\u001b[0m sorted_countries_by_name \u001b[38;5;241m=\u001b[39m \u001b[38;5;28;43msorted\u001b[39;49m\u001b[43m(\u001b[49m\u001b[43mcountries\u001b[49m\u001b[43m,\u001b[49m\u001b[43m \u001b[49m\u001b[43mkey\u001b[49m\u001b[38;5;241;43m=\u001b[39;49m\u001b[38;5;28;43;01mlambda\u001b[39;49;00m\u001b[43m \u001b[49m\u001b[43mx\u001b[49m\u001b[43m:\u001b[49m\u001b[43m \u001b[49m\u001b[43mx\u001b[49m\u001b[43m[\u001b[49m\u001b[38;5;124;43m\"\u001b[39;49m\u001b[38;5;124;43mname\u001b[39;49m\u001b[38;5;124;43m\"\u001b[39;49m\u001b[43m]\u001b[49m\u001b[43m)\u001b[49m\n\u001b[0;32m      3\u001b[0m \u001b[38;5;66;03m# Display the ten most spoken languages\u001b[39;00m\n\u001b[0;32m      4\u001b[0m \u001b[38;5;28;01mfor\u001b[39;00m country \u001b[38;5;129;01min\u001b[39;00m sorted_countries_by_name[:\u001b[38;5;241m10\u001b[39m]:\n",
      "Cell \u001b[1;32mIn[40], line 1\u001b[0m, in \u001b[0;36m<lambda>\u001b[1;34m(x)\u001b[0m\n\u001b[1;32m----> 1\u001b[0m sorted_countries_by_name \u001b[38;5;241m=\u001b[39m \u001b[38;5;28msorted\u001b[39m(countries, key\u001b[38;5;241m=\u001b[39m\u001b[38;5;28;01mlambda\u001b[39;00m x: \u001b[43mx\u001b[49m\u001b[43m[\u001b[49m\u001b[38;5;124;43m\"\u001b[39;49m\u001b[38;5;124;43mname\u001b[39;49m\u001b[38;5;124;43m\"\u001b[39;49m\u001b[43m]\u001b[49m)\n\u001b[0;32m      3\u001b[0m \u001b[38;5;66;03m# Display the ten most spoken languages\u001b[39;00m\n\u001b[0;32m      4\u001b[0m \u001b[38;5;28;01mfor\u001b[39;00m country \u001b[38;5;129;01min\u001b[39;00m sorted_countries_by_name[:\u001b[38;5;241m10\u001b[39m]:\n",
      "\u001b[1;31mTypeError\u001b[0m: string indices must be integers, not 'str'"
     ]
    }
   ],
   "source": [
    "sorted_countries_by_name = sorted(countries, key=lambda x: x[\"name\"])\n",
    "\n",
    "# Display the ten most spoken languages\n",
    "for country in sorted_countries_by_name[:10]:\n",
    "    print(f\"Country: {country['name']}\")\n",
    "    print(f\"Languages: {', '.join(country['languages'])}\")\n",
    "    print(\"=\" * 20)"
   ]
  }
 ],
 "metadata": {
  "kernelspec": {
   "display_name": "datascience",
   "language": "python",
   "name": "python3"
  },
  "language_info": {
   "codemirror_mode": {
    "name": "ipython",
    "version": 3
   },
   "file_extension": ".py",
   "mimetype": "text/x-python",
   "name": "python",
   "nbconvert_exporter": "python",
   "pygments_lexer": "ipython3",
   "version": "3.11.5"
  }
 },
 "nbformat": 4,
 "nbformat_minor": 2
}
