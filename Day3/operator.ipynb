{
 "cells": [
  {
   "cell_type": "markdown",
   "metadata": {},
   "source": [
    " # Exercise no.1-3"
   ]
  },
  {
   "cell_type": "code",
   "execution_count": 1,
   "metadata": {},
   "outputs": [
    {
     "name": "stdout",
     "output_type": "stream",
     "text": [
      "37\n",
      "6.8\n",
      "(4+5j)\n"
     ]
    }
   ],
   "source": [
    "age = 37\n",
    "height = 6.8\n",
    "complex_num = 4 + 5j\n",
    "print(age)\n",
    "print(height)\n",
    "print(complex_num)\n"
   ]
  },
  {
   "cell_type": "markdown",
   "metadata": {},
   "source": [
    "# Exercise no. 4-7\n"
   ]
  },
  {
   "cell_type": "markdown",
   "metadata": {},
   "source": []
  },
  {
   "cell_type": "code",
   "execution_count": 6,
   "metadata": {},
   "outputs": [
    {
     "name": "stdout",
     "output_type": "stream",
     "text": [
      "The area of the triangle is:  24.0\n",
      "the perimeter of the triangle is:  456\n",
      "The area of the rectangle is:  16.0\n",
      "The perimeter of the rectangle is:  32.0\n",
      "The area of the circle is:  153.86\n",
      "The circumference of the circle is:  43.96\n"
     ]
    }
   ],
   "source": [
    "b = float(input(\"Enter the base of the triangle: \"))\n",
    "h = float(input(\"Enter the height of the triangle: \"))\n",
    "Area_triangle = 0.5 * b * h\n",
    "print(\"The area of the triangle is: \", Area_triangle)\n",
    "\n",
    "a = input(\"Enter the first side of the triangle: \")\n",
    "b = input(\"Enter the second side of the triangle: \")\n",
    "c = input(\"Enter the third side of the triangle: \")\n",
    "perimeter_triangle = a + b + c\n",
    "print(\"the perimeter of the triangle is: \", perimeter_triangle)\n",
    "\n",
    "length = float(input(\"Enter the length of the rectangle: \"))\n",
    "width = float(input(\"Enter the width of the rectangle: \"))\n",
    "Area_rectangle = length * width\n",
    "perimeter_recangle = 2 * length * width\n",
    "print(\"The area of the rectangle is: \", Area_rectangle)\n",
    "print(\"The perimeter of the rectangle is: \", perimeter_recangle)\n",
    "\n",
    "raduis = float(input(\"Enther the raduis of a circle: \"))\n",
    "pi = 3.14\n",
    "area_circle = pi * (raduis ** 2)\n",
    "circum_circle = 2 * pi * raduis\n",
    "print(\"The area of the circle is: \", area_circle)\n",
    "print(\"The circumference of the circle is: \", circum_circle)\n"
   ]
  },
  {
   "cell_type": "markdown",
   "metadata": {},
   "source": [
    "# Exercise 8-10"
   ]
  },
  {
   "cell_type": "code",
   "execution_count": 9,
   "metadata": {},
   "outputs": [
    {
     "name": "stdout",
     "output_type": "stream",
     "text": [
      "1\n",
      "-2\n",
      "2\n",
      "2.0\n",
      "8.94427190999916\n"
     ]
    }
   ],
   "source": [
    "x_intercept = 1  # because its coordinate is (x.0)\n",
    "y_intercept = -2  # because its coordinate is (0,y)\n",
    "slope = 2  # comparing with y = mx + b, m = slope\n",
    "print(\"The x-intercept is: \", x_intercept)\n",
    "print(\"The y-intercept is: \", y_intercept)\n",
    "print(\"The slope is: \", slope)\n",
    "import math \n",
    "x1,y1 = 2,2\n",
    "x2,y2 = 6,10\n",
    "slope_1 = (y2 - y1) / (x2 - x1)\n",
    "euclidean_distance = math.sqrt((x2 - x1)**2 + (y2 - y1)**2)\n",
    "print(\"The slope is: \", slope_1)\n",
    "print(\"The Euclidean distance is: \", euclidean_distance)\n",
    "print(\"Is the two slopes the same? \", slope == slope_1)\n",
    "\n"
   ]
  },
  {
   "cell_type": "markdown",
   "metadata": {},
   "source": [
    "# Exercise 11-20"
   ]
  },
  {
   "cell_type": "code",
   "execution_count": 30,
   "metadata": {},
   "outputs": [
    {
     "name": "stdout",
     "output_type": "stream",
     "text": [
      "The solution is:  -3.0\n",
      "The value of y is:  0.0\n",
      "False\n",
      "True\n",
      "True\n",
      "6.0\n"
     ]
    },
    {
     "name": "stdout",
     "output_type": "stream",
     "text": [
      "5  is not an even number\n",
      "True\n",
      "False\n",
      "False\n"
     ]
    }
   ],
   "source": [
    "import math\n",
    "a,b,c = 1,6,9\n",
    "d = b**2 - 4*a*c # discriminant\n",
    "# to find the root of the equation\n",
    "x1 = (-b + math.sqrt(d))/(2*a)\n",
    "x2 = (-b - math.sqrt(d))/(2*a)\n",
    "print(\"The solution is: \", x1 and x2)\n",
    "y1, y2 = x1**2 + (6*x1) + 9, x2**2 + (6*x2) + 9\n",
    "print(\"The value of y is: \", y1 and y2) \n",
    "\n",
    "a, b = \"python\", \"dragon\"\n",
    "print(len(a) > len(b))\n",
    "print(\"on\" in (a and b))\n",
    "c = \"I hope this course is not full of jargon\"\n",
    "print(\"jargon\" in c)\n",
    "d = len(a)\n",
    "print(float(d))\n",
    "\n",
    "number = int(input(\"Enter a number: \"))\n",
    "remainder = number % 2\n",
    "if (remainder == 0):\n",
    "    print(number, \" is an even number\")\n",
    "else:\n",
    "    print(number, \" is not an even number\")\n",
    "\n",
    "e = 7 // 3 \n",
    "f = int(2.7)\n",
    "print(e == f)\n",
    "\n",
    "print(\"10\" == 10)\n",
    "\n",
    "print(int(9.8) == 10)\n"
   ]
  },
  {
   "cell_type": "markdown",
   "metadata": {},
   "source": [
    "# Exercise no.21-23"
   ]
  },
  {
   "cell_type": "code",
   "execution_count": 28,
   "metadata": {},
   "outputs": [
    {
     "name": "stdout",
     "output_type": "stream",
     "text": [
      "Your weekly earning is:  25.0\n",
      "You can live for  18000.0 seconds.\n"
     ]
    },
    {
     "ename": "ModuleNotFoundError",
     "evalue": "No module named 'pandas'",
     "output_type": "error",
     "traceback": [
      "\u001b[1;31m---------------------------------------------------------------------------\u001b[0m",
      "\u001b[1;31mModuleNotFoundError\u001b[0m                       Traceback (most recent call last)",
      "\u001b[1;32mc:\\Users\\uer\\Desktop\\ntongWork\\arewa-data-science-workspace\\Day3\\operator.ipynb Cell 11\u001b[0m line \u001b[0;36m9\n\u001b[0;32m      <a href='vscode-notebook-cell:/c%3A/Users/uer/Desktop/ntongWork/arewa-data-science-workspace/Day3/operator.ipynb#X15sZmlsZQ%3D%3D?line=6'>7</a>\u001b[0m seconds \u001b[39m=\u001b[39m \u001b[39m60\u001b[39m \u001b[39m*\u001b[39m \u001b[39m60\u001b[39m \u001b[39m*\u001b[39m years\n\u001b[0;32m      <a href='vscode-notebook-cell:/c%3A/Users/uer/Desktop/ntongWork/arewa-data-science-workspace/Day3/operator.ipynb#X15sZmlsZQ%3D%3D?line=7'>8</a>\u001b[0m \u001b[39mprint\u001b[39m(\u001b[39m\"\u001b[39m\u001b[39mYou can live for \u001b[39m\u001b[39m\"\u001b[39m,  seconds, \u001b[39m\"\u001b[39m\u001b[39mseconds.\u001b[39m\u001b[39m\"\u001b[39m)\n\u001b[1;32m----> <a href='vscode-notebook-cell:/c%3A/Users/uer/Desktop/ntongWork/arewa-data-science-workspace/Day3/operator.ipynb#X15sZmlsZQ%3D%3D?line=8'>9</a>\u001b[0m \u001b[39mimport\u001b[39;00m \u001b[39mpandas\u001b[39;00m \u001b[39mas\u001b[39;00m \u001b[39mpd\u001b[39;00m\n\u001b[0;32m     <a href='vscode-notebook-cell:/c%3A/Users/uer/Desktop/ntongWork/arewa-data-science-workspace/Day3/operator.ipynb#X15sZmlsZQ%3D%3D?line=9'>10</a>\u001b[0m data \u001b[39m=\u001b[39m [[\u001b[39m1\u001b[39m,\u001b[39m1\u001b[39m,\u001b[39m1\u001b[39m,\u001b[39m1\u001b[39m,\u001b[39m1\u001b[39m],[\u001b[39m2\u001b[39m,\u001b[39m1\u001b[39m,\u001b[39m2\u001b[39m,\u001b[39m4\u001b[39m,\u001b[39m8\u001b[39m],[\u001b[39m3\u001b[39m,\u001b[39m1\u001b[39m,\u001b[39m3\u001b[39m,\u001b[39m9\u001b[39m,\u001b[39m27\u001b[39m],[\u001b[39m4\u001b[39m,\u001b[39m1\u001b[39m,\u001b[39m4\u001b[39m,\u001b[39m16\u001b[39m,\u001b[39m64\u001b[39m],[\u001b[39m5\u001b[39m,\u001b[39m1\u001b[39m,\u001b[39m5\u001b[39m,\u001b[39m25\u001b[39m,\u001b[39m125\u001b[39m]]\n\u001b[0;32m     <a href='vscode-notebook-cell:/c%3A/Users/uer/Desktop/ntongWork/arewa-data-science-workspace/Day3/operator.ipynb#X15sZmlsZQ%3D%3D?line=10'>11</a>\u001b[0m df \u001b[39m=\u001b[39m pd\u001b[39m.\u001b[39mDataFrame(data)\n",
      "\u001b[1;31mModuleNotFoundError\u001b[0m: No module named 'pandas'"
     ]
    }
   ],
   "source": [
    "hours = float(input(\"Enter your working hours in a week: \"))\n",
    "rate_per_weeek = float(input(\"Enter your working rate per hour: \"))\n",
    "weekly_earning = hours * rate_per_weeek\n",
    "print(\"Your weekly earning is: \", weekly_earning)\n",
    "\n",
    "years = float(input(\"Enter your number of years: \"))\n",
    "seconds = 60 * 60 * years\n",
    "print(\"You can live for \",  seconds, \"seconds.\")\n",
    "import pandas as pd\n",
    "data = [[1,1,1,1,1],[2,1,2,4,8],[3,1,3,9,27],[4,1,4,16,64],[5,1,5,25,125]]\n",
    "df = pd.DataFrame(data)\n",
    "print(df)"
   ]
  }
 ],
 "metadata": {
  "kernelspec": {
   "display_name": "datascience",
   "language": "python",
   "name": "python3"
  },
  "language_info": {
   "codemirror_mode": {
    "name": "ipython",
    "version": 3
   },
   "file_extension": ".py",
   "mimetype": "text/x-python",
   "name": "python",
   "nbconvert_exporter": "python",
   "pygments_lexer": "ipython3",
   "version": "3.11.5"
  }
 },
 "nbformat": 4,
 "nbformat_minor": 2
}
