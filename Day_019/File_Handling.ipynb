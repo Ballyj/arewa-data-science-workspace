{
 "cells": [
  {
   "cell_type": "markdown",
   "metadata": {},
   "source": [
    "# Exercise Level 1"
   ]
  },
  {
   "cell_type": "code",
   "execution_count": 8,
   "metadata": {},
   "outputs": [
    {
     "name": "stdout",
     "output_type": "stream",
     "text": [
      "Number of lines: 65\n",
      "Number of words: 2305\n"
     ]
    }
   ],
   "source": [
    "# Obama speech count\n",
    "def count_lines_and_words_from_file(file_path):\n",
    "    try:\n",
    "        with open(file_path, 'r', encoding='utf-8') as file:\n",
    "            # Read the entire content of the file\n",
    "            text = file.read()\n",
    "\n",
    "            # Counting lines\n",
    "            lines = text.split('\\n')\n",
    "            line_count = len(lines)\n",
    "\n",
    "            # Counting words\n",
    "            words = text.split()\n",
    "            word_count = len(words)\n",
    "\n",
    "            return line_count, word_count\n",
    "    except FileNotFoundError:\n",
    "        print(f\"Error: File '{file_path}' not found.\")\n",
    "    except Exception as e:\n",
    "        print(f\"An error occurred: {e}\")\n",
    "\n",
    "# Example usage:\n",
    "file_path = 'obama_speech.txt'\n",
    "lines, words = count_lines_and_words_from_file(file_path)\n",
    "\n",
    "if lines is not None and words is not None:\n",
    "    print(f\"Number of lines: {lines}\")\n",
    "    print(f\"Number of words: {words}\")\n"
   ]
  },
  {
   "cell_type": "code",
   "execution_count": 9,
   "metadata": {},
   "outputs": [
    {
     "name": "stdout",
     "output_type": "stream",
     "text": [
      "Number of lines: 83\n",
      "Number of words: 2204\n"
     ]
    }
   ],
   "source": [
    "# Michelle Speech count\n",
    "def count_lines_and_words_from_file(file_path):\n",
    "    try:\n",
    "        with open(file_path, 'r', encoding='utf-8') as file:\n",
    "            # Read the entire content of the file\n",
    "            text = file.read()\n",
    "\n",
    "            # Counting lines\n",
    "            lines = text.split('\\n')\n",
    "            line_count = len(lines)\n",
    "\n",
    "            # Counting words\n",
    "            words = text.split()\n",
    "            word_count = len(words)\n",
    "\n",
    "            return line_count, word_count\n",
    "    except FileNotFoundError:\n",
    "        print(f\"Error: File '{file_path}' not found.\")\n",
    "    except Exception as e:\n",
    "        print(f\"An error occurred: {e}\")\n",
    "\n",
    "# Example usage:\n",
    "file_path = 'michelle_Speech.txt'\n",
    "lines, words = count_lines_and_words_from_file(file_path)\n",
    "\n",
    "if lines is not None and words is not None:\n",
    "    print(f\"Number of lines: {lines}\")\n",
    "    print(f\"Number of words: {words}\")\n"
   ]
  },
  {
   "cell_type": "code",
   "execution_count": 10,
   "metadata": {},
   "outputs": [
    {
     "name": "stdout",
     "output_type": "stream",
     "text": [
      "Number of lines: 33\n",
      "Number of words: 1375\n"
     ]
    }
   ],
   "source": [
    "# Melinda Speech count\n",
    "def count_lines_and_words_from_file(file_path):\n",
    "    try:\n",
    "        with open(file_path, 'r', encoding='utf-8') as file:\n",
    "            # Read the entire content of the file\n",
    "            text = file.read()\n",
    "\n",
    "            # Counting lines\n",
    "            lines = text.split('\\n')\n",
    "            line_count = len(lines)\n",
    "\n",
    "            # Counting words\n",
    "            words = text.split()\n",
    "            word_count = len(words)\n",
    "\n",
    "            return line_count, word_count\n",
    "    except FileNotFoundError:\n",
    "        print(f\"Error: File '{file_path}' not found.\")\n",
    "    except Exception as e:\n",
    "        print(f\"An error occurred: {e}\")\n",
    "\n",
    "# Example usage:\n",
    "file_path = 'melinda_Speech.txt'\n",
    "lines, words = count_lines_and_words_from_file(file_path)\n",
    "\n",
    "if lines is not None and words is not None:\n",
    "    print(f\"Number of lines: {lines}\")\n",
    "    print(f\"Number of words: {words}\")\n"
   ]
  },
  {
   "cell_type": "code",
   "execution_count": 11,
   "metadata": {},
   "outputs": [
    {
     "name": "stdout",
     "output_type": "stream",
     "text": [
      "Number of lines: 48\n",
      "Number of words: 1259\n"
     ]
    }
   ],
   "source": [
    "# trum's Speech count\n",
    "def count_lines_and_words_from_file(file_path):\n",
    "    try:\n",
    "        with open(file_path, 'r', encoding='utf-8') as file:\n",
    "            # Read the entire content of the file\n",
    "            text = file.read()\n",
    "\n",
    "            # Counting lines\n",
    "            lines = text.split('\\n')\n",
    "            line_count = len(lines)\n",
    "\n",
    "            # Counting words\n",
    "            words = text.split()\n",
    "            word_count = len(words)\n",
    "\n",
    "            return line_count, word_count\n",
    "    except FileNotFoundError:\n",
    "        print(f\"Error: File '{file_path}' not found.\")\n",
    "    except Exception as e:\n",
    "        print(f\"An error occurred: {e}\")\n",
    "\n",
    "# Example usage:\n",
    "file_path = 'trump_Speech.txt'\n",
    "lines, words = count_lines_and_words_from_file(file_path)\n",
    "\n",
    "if lines is not None and words is not None:\n",
    "    print(f\"Number of lines: {lines}\")\n",
    "    print(f\"Number of words: {words}\")\n"
   ]
  },
  {
   "cell_type": "code",
   "execution_count": 18,
   "metadata": {},
   "outputs": [
    {
     "name": "stdout",
     "output_type": "stream",
     "text": [
      "An error occurred: dump() missing 1 required positional argument: 'fp'\n"
     ]
    }
   ],
   "source": [
    "import json #csv\n",
    "# LEvel 1, no.2\n",
    "\n",
    "def find_top_languages(file_path):\n",
    "    try:\n",
    "        with open(file_path, 'r', encoding='utf-8') as file:\n",
    "            # Assuming a CSV format with columns: Language, Speaker Count\n",
    "            reader = json.dump(file)\n",
    "            next(reader)  # Skip header if present\n",
    "\n",
    "            # Create a dictionary to store language and speaker count\n",
    "            language_dict = {}\n",
    "            for row in reader:\n",
    "                if len(row) >= 2:\n",
    "                    language = row[0].strip()\n",
    "                    speaker_count = int(row[1].strip())\n",
    "                    language_dict[language] = speaker_count\n",
    "\n",
    "            # Sort the languages by speaker count in descending order\n",
    "            sorted_languages = sorted(language_dict.items(), key=lambda x: x[1], reverse=True)\n",
    "\n",
    "            # Get the top 10 languages\n",
    "            top_10_languages = sorted_languages[:]\n",
    "\n",
    "            return top_10_languages\n",
    "    except FileNotFoundError:\n",
    "        print(f\"Error: File '{file_path}' not found.\")\n",
    "    except Exception as e:\n",
    "        print(f\"An error occurred: {e}\")\n",
    "\n",
    "# Example usage:\n",
    "file_path = 'countries-data.py'\n",
    "top_languages = find_top_languages(file_path)\n",
    "\n",
    "if top_languages is not None:\n",
    "    print(\"Top 10 Most Spoken Languages:\")\n",
    "    for rank, (language, speaker_count) in enumerate(top_languages, start=1):\n",
    "        print(f\"{rank}. {language}: {speaker_count} speakers\")\n"
   ]
  },
  {
   "cell_type": "markdown",
   "metadata": {},
   "source": [
    "# Exercise LEvel 2\n"
   ]
  },
  {
   "cell_type": "code",
   "execution_count": 19,
   "metadata": {},
   "outputs": [
    {
     "name": "stdout",
     "output_type": "stream",
     "text": [
      "Top 10 Most Frequent Words:\n",
      "1. the: 126 occurrences\n",
      "2. and: 108 occurrences\n",
      "3. of: 78 occurrences\n",
      "4. to: 68 occurrences\n",
      "5. our: 64 occurrences\n",
      "6. we: 57 occurrences\n",
      "7. a: 48 occurrences\n",
      "8. that: 47 occurrences\n",
      "9. is: 36 occurrences\n",
      "10. for: 23 occurrences\n"
     ]
    }
   ],
   "source": [
    "# no.6\n",
    "from collections import Counter\n",
    "import re\n",
    "\n",
    "def find_top_words(file_path, top_n=10):\n",
    "    try:\n",
    "        with open(file_path, 'r', encoding='utf-8') as file:\n",
    "           \n",
    "            text = file.read()  # Read the entire content of the file\n",
    "            \n",
    "            words = re.findall(r'\\b\\w+\\b', text.lower())\n",
    "\n",
    "            \n",
    "            word_count = Counter(words) # Count the frequency of each word\n",
    "\n",
    "            \n",
    "            top_words = word_count.most_common(top_n) # Get the top N frequent words\n",
    "\n",
    "            return top_words\n",
    "    except FileNotFoundError:\n",
    "        print(f\"Error: File '{file_path}' not found.\")\n",
    "    except Exception as e:\n",
    "        print(f\"An error occurred: {e}\")\n",
    "\n",
    "\n",
    "file_path = 'obama_speech.txt'\n",
    "top_words = find_top_words(file_path)\n",
    "\n",
    "if top_words is not None:\n",
    "    print(\"Top 10 Most Frequent Words:\")\n",
    "    for rank, (word, frequency) in enumerate(top_words, start=1):\n",
    "        print(f\"{rank}. {word}: {frequency} occurrences\")\n"
   ]
  },
  {
   "cell_type": "code",
   "execution_count": 20,
   "metadata": {},
   "outputs": [
    {
     "name": "stdout",
     "output_type": "stream",
     "text": [
      "Top 10 Most Frequent Words:\n",
      "1. the: 65 occurrences\n",
      "2. and: 59 occurrences\n",
      "3. we: 44 occurrences\n",
      "4. will: 40 occurrences\n",
      "5. of: 38 occurrences\n",
      "6. to: 32 occurrences\n",
      "7. our: 30 occurrences\n",
      "8. is: 20 occurrences\n",
      "9. america: 17 occurrences\n",
      "10. for: 13 occurrences\n"
     ]
    }
   ],
   "source": [
    "# no.6\n",
    "from collections import Counter\n",
    "import re\n",
    "\n",
    "def find_top_words(file_path, top_n=10):\n",
    "    try:\n",
    "        with open(file_path, 'r', encoding='utf-8') as file:\n",
    "           \n",
    "            text = file.read()  # Read the entire content of the file\n",
    "            \n",
    "            words = re.findall(r'\\b\\w+\\b', text.lower())\n",
    "\n",
    "            \n",
    "            word_count = Counter(words) # Count the frequency of each word\n",
    "\n",
    "            \n",
    "            top_words = word_count.most_common(top_n) # Get the top N frequent words\n",
    "\n",
    "            return top_words\n",
    "    except FileNotFoundError:\n",
    "        print(f\"Error: File '{file_path}' not found.\")\n",
    "    except Exception as e:\n",
    "        print(f\"An error occurred: {e}\")\n",
    "\n",
    "\n",
    "file_path = 'trump_Speech.txt'\n",
    "top_words = find_top_words(file_path)\n",
    "\n",
    "if top_words is not None:\n",
    "    print(\"Top 10 Most Frequent Words:\")\n",
    "    for rank, (word, frequency) in enumerate(top_words, start=1):\n",
    "        print(f\"{rank}. {word}: {frequency} occurrences\")\n"
   ]
  },
  {
   "cell_type": "code",
   "execution_count": 21,
   "metadata": {},
   "outputs": [
    {
     "name": "stdout",
     "output_type": "stream",
     "text": [
      "Top 10 Most Frequent Words:\n",
      "1. and: 96 occurrences\n",
      "2. the: 85 occurrences\n",
      "3. to: 84 occurrences\n",
      "4. that: 50 occurrences\n",
      "5. of: 46 occurrences\n",
      "6. a: 41 occurrences\n",
      "7. he: 37 occurrences\n",
      "8. in: 36 occurrences\n",
      "9. my: 28 occurrences\n",
      "10. i: 28 occurrences\n"
     ]
    }
   ],
   "source": [
    "# no.6\n",
    "from collections import Counter\n",
    "import re\n",
    "\n",
    "def find_top_words(file_path, top_n=10):\n",
    "    try:\n",
    "        with open(file_path, 'r', encoding='utf-8') as file:\n",
    "           \n",
    "            text = file.read()  # Read the entire content of the file\n",
    "            \n",
    "            words = re.findall(r'\\b\\w+\\b', text.lower())\n",
    "\n",
    "            \n",
    "            word_count = Counter(words) # Count the frequency of each word\n",
    "\n",
    "            \n",
    "            top_words = word_count.most_common(top_n) # Get the top N frequent words\n",
    "\n",
    "            return top_words\n",
    "    except FileNotFoundError:\n",
    "        print(f\"Error: File '{file_path}' not found.\")\n",
    "    except Exception as e:\n",
    "        print(f\"An error occurred: {e}\")\n",
    "\n",
    "\n",
    "file_path = 'michelle_Speech.txt'\n",
    "top_words = find_top_words(file_path)\n",
    "\n",
    "if top_words is not None:\n",
    "    print(\"Top 10 Most Frequent Words:\")\n",
    "    for rank, (word, frequency) in enumerate(top_words, start=1):\n",
    "        print(f\"{rank}. {word}: {frequency} occurrences\")\n"
   ]
  },
  {
   "cell_type": "code",
   "execution_count": 22,
   "metadata": {},
   "outputs": [
    {
     "name": "stdout",
     "output_type": "stream",
     "text": [
      "Top 10 Most Frequent Words:\n",
      "1. and: 77 occurrences\n",
      "2. to: 55 occurrences\n",
      "3. the: 52 occurrences\n",
      "4. is: 29 occurrences\n",
      "5. i: 28 occurrences\n",
      "6. for: 27 occurrences\n",
      "7. of: 25 occurrences\n",
      "8. that: 24 occurrences\n",
      "9. a: 22 occurrences\n",
      "10. you: 21 occurrences\n"
     ]
    }
   ],
   "source": [
    "# no.6\n",
    "from collections import Counter\n",
    "import re\n",
    "\n",
    "def find_top_words(file_path, top_n=10):\n",
    "    try:\n",
    "        with open(file_path, 'r', encoding='utf-8') as file:\n",
    "           \n",
    "            text = file.read()  # Read the entire content of the file\n",
    "            \n",
    "            words = re.findall(r'\\b\\w+\\b', text.lower())\n",
    "\n",
    "            \n",
    "            word_count = Counter(words) # Count the frequency of each word\n",
    "\n",
    "            \n",
    "            top_words = word_count.most_common(top_n) # Get the top N frequent words\n",
    "\n",
    "            return top_words\n",
    "    except FileNotFoundError:\n",
    "        print(f\"Error: File '{file_path}' not found.\")\n",
    "    except Exception as e:\n",
    "        print(f\"An error occurred: {e}\")\n",
    "\n",
    "\n",
    "file_path = 'melinda_Speech.txt'\n",
    "top_words = find_top_words(file_path)\n",
    "\n",
    "if top_words is not None:\n",
    "    print(\"Top 10 Most Frequent Words:\")\n",
    "    for rank, (word, frequency) in enumerate(top_words, start=1):\n",
    "        print(f\"{rank}. {word}: {frequency} occurrences\")\n"
   ]
  },
  {
   "cell_type": "code",
   "execution_count": 24,
   "metadata": {},
   "outputs": [
    {
     "name": "stdout",
     "output_type": "stream",
     "text": [
      "Cosine Similarity between the two files: 0.87\n"
     ]
    }
   ],
   "source": [
    "# no.7\n",
    "from sklearn.feature_extraction.text import TfidfVectorizer\n",
    "from sklearn.metrics.pairwise import cosine_similarity\n",
    "\n",
    "def calculate_cosine_similarity(file1_path, file2_path):\n",
    "    try:\n",
    "        with open(file1_path, 'r', encoding='utf-8') as file1, open(file2_path, 'r', encoding='utf-8') as file2:\n",
    "           \n",
    "            text1 = file1.read()\n",
    "            text2 = file2.read()\n",
    "\n",
    "            \n",
    "            vectorizer = TfidfVectorizer()\n",
    "            tfidf_matrix = vectorizer.fit_transform([text1, text2])\n",
    "\n",
    "        \n",
    "            similarity_matrix = cosine_similarity(tfidf_matrix, tfidf_matrix)\n",
    "\n",
    "            \n",
    "            similarity = similarity_matrix[0, 1]\n",
    "\n",
    "            return similarity\n",
    "    except FileNotFoundError as e:\n",
    "        print(f\"Error: {e.filename} not found.\")\n",
    "    except Exception as e:\n",
    "        print(f\"An error occurred: {e}\")\n",
    "\n",
    "file1_path = 'michelle_Speech.txt'\n",
    "file2_path = 'melinda_Speech.txt'\n",
    "\n",
    "similarity = calculate_cosine_similarity(file1_path, file2_path)\n",
    "\n",
    "if similarity is not None:\n",
    "    print(f\"Cosine Similarity between the two files: {similarity:.2f}\")\n"
   ]
  }
 ],
 "metadata": {
  "kernelspec": {
   "display_name": "datascience",
   "language": "python",
   "name": "python3"
  },
  "language_info": {
   "codemirror_mode": {
    "name": "ipython",
    "version": 3
   },
   "file_extension": ".py",
   "mimetype": "text/x-python",
   "name": "python",
   "nbconvert_exporter": "python",
   "pygments_lexer": "ipython3",
   "version": "3.11.5"
  }
 },
 "nbformat": 4,
 "nbformat_minor": 2
}
