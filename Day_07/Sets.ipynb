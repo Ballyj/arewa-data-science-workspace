{
 "cells": [
  {
   "cell_type": "markdown",
   "metadata": {},
   "source": [
    "# Sets: Exercise Day 7"
   ]
  },
  {
   "cell_type": "code",
   "execution_count": 1,
   "metadata": {},
   "outputs": [
    {
     "name": "stdout",
     "output_type": "stream",
     "text": [
      "{'Google', 'Facebook', 'Amazon', 'Oraacle', 'Microsoft', 'Apple', 'IBM'}\n",
      "7\n",
      "{'Google', 'Facebook', 'Amazon', 'Oraacle', 'Microsoft', 'Apple', 'IBM', 'Twitter'}\n",
      "{'Oraacle', 'Amazon', 'Apple', 'Wechat', 'Instergram', 'Twitter', 'WhatsApp', 'Facebook', 'Google', 'Microsoft', 'IBM'}\n"
     ]
    }
   ],
   "source": [
    "# Level 1\n",
    "it_companies = {'Facebook', 'Google', 'Microsoft', 'Apple', 'IBM', 'Oracle', 'Amazon'}\n",
    "print(it_companies)\n",
    "print(len(it_companies))\n",
    "it_companies.add('Twitter')\n",
    "print(it_companies)\n",
    "it_companies.update(['Wechat', 'WhatsApp', 'Instergram'])\n",
    "print(it_companies)\n",
    "\n"
   ]
  },
  {
   "cell_type": "code",
   "execution_count": 3,
   "metadata": {},
   "outputs": [
    {
     "name": "stdout",
     "output_type": "stream",
     "text": [
      "{19, 20, 22, 24, 25, 26}\n",
      "{19, 20, 22, 24, 25, 26}\n",
      "True\n",
      "set()\n",
      "set()\n"
     ]
    },
    {
     "ename": "NameError",
     "evalue": "name 'C' is not defined",
     "output_type": "error",
     "traceback": [
      "\u001b[1;31m---------------------------------------------------------------------------\u001b[0m",
      "\u001b[1;31mNameError\u001b[0m                                 Traceback (most recent call last)",
      "\u001b[1;32mc:\\Users\\uer\\Desktop\\ntongWork\\arewa-data-science-workspace\\Day7\\Sets.ipynb Cell 3\u001b[0m line \u001b[0;36m1\n\u001b[0;32m     <a href='vscode-notebook-cell:/c%3A/Users/uer/Desktop/ntongWork/arewa-data-science-workspace/Day7/Sets.ipynb#W3sZmlsZQ%3D%3D?line=11'>12</a>\u001b[0m \u001b[39mprint\u001b[39m(A\u001b[39m.\u001b[39msymmetric_difference(B))\n\u001b[0;32m     <a href='vscode-notebook-cell:/c%3A/Users/uer/Desktop/ntongWork/arewa-data-science-workspace/Day7/Sets.ipynb#W3sZmlsZQ%3D%3D?line=12'>13</a>\u001b[0m \u001b[39mdel\u001b[39;00m C\n\u001b[1;32m---> <a href='vscode-notebook-cell:/c%3A/Users/uer/Desktop/ntongWork/arewa-data-science-workspace/Day7/Sets.ipynb#W3sZmlsZQ%3D%3D?line=13'>14</a>\u001b[0m \u001b[39mprint\u001b[39m(C)\n",
      "\u001b[1;31mNameError\u001b[0m: name 'C' is not defined"
     ]
    }
   ],
   "source": [
    "# level 2\n",
    "\n",
    "A = {19, 22, 24, 20, 25, 26}\n",
    "B = {19, 22, 20, 25, 26, 24, 25, 24}\n",
    "\n",
    "C = A.union(B)\n",
    "print(C)\n",
    "D  = A.intersection(B)\n",
    "print(D)\n",
    "print(A.issubset(B))\n",
    "print(A.difference(B))\n",
    "print(A.symmetric_difference(B))\n",
    "del C\n",
    "print(C)\n",
    "\n"
   ]
  },
  {
   "cell_type": "code",
   "execution_count": 9,
   "metadata": {},
   "outputs": [
    {
     "name": "stdout",
     "output_type": "stream",
     "text": [
      "{19, 22, 24, 25, 26}\n",
      "8\n",
      "5\n",
      "False\n",
      "['teach', 'love', 'people', 'teacher', 'I', 'to', 'inspire', 'am', 'A', 'and']\n"
     ]
    }
   ],
   "source": [
    "# Level 3\n",
    "age = [22, 19, 24, 25, 26, 24, 25, 24]\n",
    "age_st = set(age)\n",
    "print(age_st)\n",
    "print(len(age))\n",
    "print(len(age_st))\n",
    "print(len(age) == len(age_st))\n",
    "\n",
    "sentence = \"I am A teacher and I love to inspire and teach people\"\n",
    "list_str = sentence.split()\n",
    "print(list(set(list_str)))"
   ]
  }
 ],
 "metadata": {
  "kernelspec": {
   "display_name": "datascience",
   "language": "python",
   "name": "python3"
  },
  "language_info": {
   "codemirror_mode": {
    "name": "ipython",
    "version": 3
   },
   "file_extension": ".py",
   "mimetype": "text/x-python",
   "name": "python",
   "nbconvert_exporter": "python",
   "pygments_lexer": "ipython3",
   "version": "3.11.5"
  }
 },
 "nbformat": 4,
 "nbformat_minor": 2
}
