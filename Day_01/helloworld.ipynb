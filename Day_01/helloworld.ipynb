{
 "cells": [
  {
   "cell_type": "markdown",
   "metadata": {},
   "source": [
    "# day_1 assignment\n"
   ]
  },
  {
   "cell_type": "code",
   "execution_count": 1,
   "metadata": {},
   "outputs": [
    {
     "name": "stdout",
     "output_type": "stream",
     "text": [
      "8\n",
      "-3\n",
      "12\n",
      "4.0\n",
      "8\n",
      "1\n",
      "4\n"
     ]
    }
   ],
   "source": [
    "print(5 + 3)   \n",
    "print(3 - 6)   \n",
    "print(4 * 3)   \n",
    "print(8 / 2)   \n",
    "print(2 ** 3) \n",
    "print(5 % 2)   \n",
    "print(9 // 2)  \n"
   ]
  },
  {
   "cell_type": "markdown",
   "metadata": {},
   "source": [
    "# Checking  data type"
   ]
  },
  {
   "cell_type": "code",
   "execution_count": 2,
   "metadata": {},
   "outputs": [
    {
     "name": "stdout",
     "output_type": "stream",
     "text": [
      "<class 'int'>\n",
      "<class 'float'>\n",
      "<class 'complex'>\n",
      "<class 'str'>\n",
      "<class 'list'>\n",
      "<class 'dict'>\n",
      "<class 'set'>\n",
      "<class 'tuple'>\n"
     ]
    }
   ],
   "source": [
    "print(type(13))                  \n",
    "print(type(9.86))                \n",
    "print(type(5 + 3j))              \n",
    "print(type('Bala'))   \n",
    "print(type([2, 4, 8]))           \n",
    "print(type({'name':'Bala'})) \n",
    "print(type({10.0, 5.6, 1.89}))    \n",
    "print(type((10.0, 5.6, 1.89)))   "
   ]
  }
 ],
 "metadata": {
  "kernelspec": {
   "display_name": "datascience",
   "language": "python",
   "name": "python3"
  },
  "language_info": {
   "codemirror_mode": {
    "name": "ipython",
    "version": 3
   },
   "file_extension": ".py",
   "mimetype": "text/x-python",
   "name": "python",
   "nbconvert_exporter": "python",
   "pygments_lexer": "ipython3",
   "version": "3.11.5"
  }
 },
 "nbformat": 4,
 "nbformat_minor": 2
}
