{
 "cells": [
  {
   "cell_type": "markdown",
   "metadata": {},
   "source": [
    "# Dictionaries: Exercise Day 8  "
   ]
  },
  {
   "cell_type": "code",
   "execution_count": 9,
   "metadata": {},
   "outputs": [
    {
     "name": "stdout",
     "output_type": "stream",
     "text": [
      "{'Name': 'Blacky', 'Color': 'Black', 'Breed': 'Bulldog', 'Legs': 'Wide', 'Age': 6}\n",
      "9\n",
      "['Soft skillspython']\n",
      "<class 'dict'>\n",
      "dict_keys(['first_name', 'last_name', 'gender', 'age', 'marital status', 'skill', 'country', 'city', 'address'])\n",
      "dict_values(['Ibrahim', 'Yusuf', 'Male', '57', 'Single', ['Soft skillspython', 'Programming'], 'Nigeria', 'Kaduna', 'Malali'])\n",
      "dict_items([('first_name', 'Ibrahim'), ('last_name', 'Yusuf'), ('gender', 'Male'), ('age', '57'), ('marital status', 'Single'), ('skill', ['Soft skillspython', 'Programming']), ('country', 'Nigeria'), ('city', 'Kaduna'), ('address', 'Malali')])\n",
      "{'first_name': 'Ibrahim', 'last_name': 'Yusuf', 'gender': 'Male', 'marital status': 'Single', 'skill': ['Soft skillspython', 'Programming'], 'country': 'Nigeria', 'city': 'Kaduna', 'address': 'Malali'}\n"
     ]
    }
   ],
   "source": [
    "dog = {}\n",
    "dog['Name']= 'Blacky'\n",
    "dog['Color'] = 'Black'\n",
    "dog['Breed'] = 'Bulldog'\n",
    "dog['Legs'] = 'Wide'\n",
    "dog['Age'] = 6\n",
    "print(dog)\n",
    "\n",
    "student = {'first_name': 'Ibrahim', 'last_name': 'Yusuf', 'gender': 'Male', 'age': '57', 'marital status': 'Single', 'skill':['Soft skills' 'python'], 'country': 'Nigeria', 'city': 'Kaduna', 'address': 'Malali'}\n",
    "print(len(student))\n",
    "\n",
    "print(student['skill'])\n",
    "print(type(student))\n",
    "student['skill'].append('Programming')\n",
    "print(student.keys())\n",
    "print(student.values())\n",
    "print(student.items())\n",
    "del student['age']\n",
    "del dog\n",
    "\n",
    "print(student)\n"
   ]
  }
 ],
 "metadata": {
  "kernelspec": {
   "display_name": "datascience",
   "language": "python",
   "name": "python3"
  },
  "language_info": {
   "codemirror_mode": {
    "name": "ipython",
    "version": 3
   },
   "file_extension": ".py",
   "mimetype": "text/x-python",
   "name": "python",
   "nbconvert_exporter": "python",
   "pygments_lexer": "ipython3",
   "version": "3.11.5"
  }
 },
 "nbformat": 4,
 "nbformat_minor": 2
}
